{
 "cells": [
  {
   "cell_type": "code",
   "execution_count": 12,
   "metadata": {},
   "outputs": [
    {
     "name": "stdout",
     "output_type": "stream",
     "text": [
      "15\n",
      "65\n"
     ]
    }
   ],
   "source": [
    "import concentrationMetrics as cm\n",
    "import numpy as np\n",
    "from collections import Counter\n",
    "def gini(x):\n",
    "    my_index = cm.Index()\n",
    "    class_frequencies = np.array(list(Counter(x).values()))\n",
    "    return my_index.gini(class_frequencies)\n",
    "\n",
    "occurences = [17, 13, 11, 7, 5, 2, 2] + [1 for _ in range(61, 69)]\n",
    "print(len(occurences))\n",
    "print(sum(occurences))\n",
    "occ_dic = {i: [x] for i, x in enumerate(occurences)}\n",
    "class_frequencies = np.array(list(occ_dic.values()))\n",
    "my_index = cm.Index()\n",
    "gini_before = my_index.gini(class_frequencies)"
   ]
  },
  {
   "cell_type": "code",
   "execution_count": 3,
   "metadata": {},
   "outputs": [
    {
     "name": "stdout",
     "output_type": "stream",
     "text": [
      "occurences before modification: [17, 13, 11, 7, 5, 2, 2, 1, 1, 1, 1, 1, 1, 1, 1]\n",
      "gini score before modification: 0.56\n"
     ]
    }
   ],
   "source": [
    "max_occurence = max(occurences)\n",
    "max_index = occurences.index(max_occurence)\n",
    "print(f\"occurences before modification: {occurences}\")\n",
    "print(f\"gini score before modification: {gini_before}\")"
   ]
  },
  {
   "cell_type": "code",
   "execution_count": 11,
   "metadata": {},
   "outputs": [
    {
     "name": "stdout",
     "output_type": "stream",
     "text": [
      "4\n",
      "median is: 4\n",
      "average is: 4.333333333333333\n",
      "occurences before modification: [4, 7, 6, 5, 8, 4, 6, 4, 4, 4, 4, 3, 3, 2, 1]\n",
      "gini score before modification: 0.56\n",
      "occurences after modification: [4, 4, 4, 4, 16, 4, 4, 4, 4, 4, 4, 3, 3, 2, 1]\n",
      "gini score after modification: 0.2584615384615384\n"
     ]
    }
   ],
   "source": [
    "n_samples = sum(occurences)\n",
    "max_occurence = max(occurences)\n",
    "max_index = occurences.index(max_occurence)\n",
    "print(max_index)\n",
    "samples_removed = 0\n",
    "new_list = occurences.copy()\n",
    "original_average = sum(occurences) / len(occurences)\n",
    "\n",
    "median = int(np.median(occurences))\n",
    "average = sum(occurences)/len(occurences)\n",
    "median_or_average = int(average) if median == 1 else median\n",
    "\n",
    "for i, occ in enumerate(occurences):\n",
    "    if occ > median_or_average and occ < max_occurence:\n",
    "        new_list[max_index] += occ - median_or_average\n",
    "        new_list[i] = median_or_average\n",
    "    \n",
    "occ_dic = {i: [x] for i, x in enumerate(new_list)}\n",
    "class_frequencies = np.array(list(occ_dic.values()))\n",
    "my_index = cm.Index()\n",
    "gini_after = my_index.gini(class_frequencies)\n",
    "print(f\"median is: {median}\")\n",
    "print(f\"average is: {average}\")\n",
    "print(f\"occurences before modification: {occurences}\")\n",
    "print(f\"gini score before modification: {gini_before}\")\n",
    "print(f\"occurences after modification: {new_list}\")\n",
    "print(f\"gini score after modification: {gini_after}\")"
   ]
  },
  {
   "cell_type": "code",
   "execution_count": 13,
   "metadata": {},
   "outputs": [
    {
     "name": "stdout",
     "output_type": "stream",
     "text": [
      "5\n",
      "median is: 4.0\n",
      "average is: 4.333333333333333\n",
      "occurences before modification: [8, 5, 5, 5, 4, 7, 6, 4, 4, 4, 4, 3, 3, 2, 1]\n",
      "gini score before modification: 0.56\n",
      "occurences after modification: [8, 5, 5, 5, 4, 7, 6, 4, 4, 4, 4, 3, 3, 2, 1]\n",
      "gini score after modification: 0.21948717948717955\n"
     ]
    }
   ],
   "source": [
    "n_samples = sum(occurences)\n",
    "max_occurence = max(occurences)\n",
    "max_index = occurences.index(max_occurence)\n",
    "new_occurences = occurences.copy()\n",
    "\n",
    "median = int(np.median(occurences))\n",
    "average = sum(occurences)/len(occurences)\n",
    "median_or_average = int(average) if median == 1 else median\n",
    "\n",
    "def _eq_div(N, i):\n",
    "    \"\"\"\n",
    "    Divide N into i buckets while preserving the remainder to the buckerts as well.\n",
    "    :return: list of length i\n",
    "    \"\"\"\n",
    "    return [] if i <= 0 else [N // i + 1] * (N % i) + [N // i] * (i - N % i)\n",
    "\n",
    "\n",
    "n_max_classes = 1\n",
    "n_max_classes = len([x for x in occurences if x > average])\n",
    "\n",
    "print(n_max_classes)\n",
    "print(f\"median is: {median}\")\n",
    "print(f\"average is: {average}\")\n",
    "print(f\"occurences before modification: {occurences}\")\n",
    "print(f\"gini score before modification: {gini_before}\")\n",
    "# for each class above average, we run the following procedure\n",
    "for i in range(n_max_classes):\n",
    "    max_occurence = max(occurences)\n",
    "    max_index = occurences.index(max_occurence)\n",
    "    new_occurences = occurences.copy()\n",
    "\n",
    "    median = np.median(occurences)\n",
    "    average = sum(occurences)/len(occurences)\n",
    "\n",
    "    median_or_average = int(average) if median == 1 else int(median)\n",
    "    #if len(new_occurences) < max_occurence:\n",
    "    new_occurences[max_index] = median_or_average   \n",
    "\n",
    "    # equal division of max - average\n",
    "    rest = _eq_div((max_occurence - median_or_average), len(new_occurences)-1)\n",
    "\n",
    "    # insert 0 at max position -> We do not want to add something to max.\n",
    "    rest.insert(max_index, 0)\n",
    "\n",
    "    for i, r in enumerate(rest):\n",
    "        new_occurences[i] +=r\n",
    "    occurences = new_occurences\n",
    "\n",
    "    \n",
    "occ_dic = {i: [x] for i, x in enumerate(new_occurences)}\n",
    "class_frequencies = np.array(list(occ_dic.values()))\n",
    "my_index = cm.Index()\n",
    "gini_after = my_index.gini(class_frequencies)\n",
    "print(f\"occurences after modification: {new_occurences}\")\n",
    "print(f\"gini score after modification: {gini_after}\")"
   ]
  }
 ],
 "metadata": {
  "kernelspec": {
   "display_name": "Python 3",
   "language": "python",
   "name": "python3"
  },
  "language_info": {
   "codemirror_mode": {
    "name": "ipython",
    "version": 3
   },
   "file_extension": ".py",
   "mimetype": "text/x-python",
   "name": "python",
   "nbconvert_exporter": "python",
   "pygments_lexer": "ipython3",
   "version": "3.8.3"
  }
 },
 "nbformat": 4,
 "nbformat_minor": 4
}
